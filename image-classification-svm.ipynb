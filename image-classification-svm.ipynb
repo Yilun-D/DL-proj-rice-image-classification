{
 "cells": [
  {
   "cell_type": "code",
   "execution_count": 1,
   "id": "1c6a51bf",
   "metadata": {
    "ExecuteTime": {
     "end_time": "2024-03-30T22:09:24.158358400Z",
     "start_time": "2024-03-30T22:09:21.480690400Z"
    },
    "collapsed": true,
    "execution": {
     "iopub.execute_input": "2024-03-31T13:26:29.170055Z",
     "iopub.status.busy": "2024-03-31T13:26:29.169185Z",
     "iopub.status.idle": "2024-03-31T13:26:35.612782Z",
     "shell.execute_reply": "2024-03-31T13:26:35.611720Z"
    },
    "jupyter": {
     "outputs_hidden": true
    },
    "papermill": {
     "duration": 6.453761,
     "end_time": "2024-03-31T13:26:35.615673",
     "exception": false,
     "start_time": "2024-03-31T13:26:29.161912",
     "status": "completed"
    },
    "tags": []
   },
   "outputs": [],
   "source": [
    "import pathlib\n",
    "import random\n",
    "import numpy as np\n",
    "import torch\n",
    "import torchvision"
   ]
  },
  {
   "cell_type": "code",
   "execution_count": 2,
   "id": "1dd70de6",
   "metadata": {
    "ExecuteTime": {
     "end_time": "2024-03-30T22:15:45.222884500Z",
     "start_time": "2024-03-30T22:15:41.567945500Z"
    },
    "collapsed": false,
    "execution": {
     "iopub.execute_input": "2024-03-31T13:26:35.628195Z",
     "iopub.status.busy": "2024-03-31T13:26:35.627640Z",
     "iopub.status.idle": "2024-03-31T13:26:37.193183Z",
     "shell.execute_reply": "2024-03-31T13:26:37.192082Z"
    },
    "jupyter": {
     "outputs_hidden": false
    },
    "papermill": {
     "duration": 1.57501,
     "end_time": "2024-03-31T13:26:37.196075",
     "exception": false,
     "start_time": "2024-03-31T13:26:35.621065",
     "status": "completed"
    },
    "tags": []
   },
   "outputs": [],
   "source": [
    "from sklearn import datasets\n",
    "from sklearn.model_selection import train_test_split\n",
    "from sklearn.svm import SVC\n",
    "from sklearn.metrics import accuracy_score"
   ]
  },
  {
   "cell_type": "markdown",
   "id": "ea904a8a",
   "metadata": {
    "papermill": {
     "duration": 0.004667,
     "end_time": "2024-03-31T13:26:37.205954",
     "exception": false,
     "start_time": "2024-03-31T13:26:37.201287",
     "status": "completed"
    },
    "tags": []
   },
   "source": [
    "# PRE-PROCESSING"
   ]
  },
  {
   "cell_type": "code",
   "execution_count": 3,
   "id": "73502b8b",
   "metadata": {
    "ExecuteTime": {
     "end_time": "2024-03-30T22:09:24.165463100Z",
     "start_time": "2024-03-30T22:09:24.158358400Z"
    },
    "collapsed": false,
    "execution": {
     "iopub.execute_input": "2024-03-31T13:26:37.217611Z",
     "iopub.status.busy": "2024-03-31T13:26:37.217209Z",
     "iopub.status.idle": "2024-03-31T13:26:37.222538Z",
     "shell.execute_reply": "2024-03-31T13:26:37.221272Z"
    },
    "jupyter": {
     "outputs_hidden": false
    },
    "papermill": {
     "duration": 0.013786,
     "end_time": "2024-03-31T13:26:37.224756",
     "exception": false,
     "start_time": "2024-03-31T13:26:37.210970",
     "status": "completed"
    },
    "tags": []
   },
   "outputs": [],
   "source": [
    "dataset_path = pathlib.Path(r\"/kaggle/input/rice-image-dataset/Rice_Image_Dataset\")"
   ]
  },
  {
   "cell_type": "code",
   "execution_count": 4,
   "id": "f8f1cc6f",
   "metadata": {
    "ExecuteTime": {
     "end_time": "2024-03-30T22:09:24.201182700Z",
     "start_time": "2024-03-30T22:09:24.167518200Z"
    },
    "collapsed": false,
    "execution": {
     "iopub.execute_input": "2024-03-31T13:26:37.236766Z",
     "iopub.status.busy": "2024-03-31T13:26:37.236329Z",
     "iopub.status.idle": "2024-03-31T13:26:37.242175Z",
     "shell.execute_reply": "2024-03-31T13:26:37.240948Z"
    },
    "jupyter": {
     "outputs_hidden": false
    },
    "papermill": {
     "duration": 0.014532,
     "end_time": "2024-03-31T13:26:37.244446",
     "exception": false,
     "start_time": "2024-03-31T13:26:37.229914",
     "status": "completed"
    },
    "tags": []
   },
   "outputs": [],
   "source": [
    "transform_workflow = torchvision.transforms.Compose(\n",
    "    [torchvision.transforms.ToTensor(),\n",
    "     torchvision.transforms.Lambda(lambda x: torch.flatten(x))]\n",
    ")"
   ]
  },
  {
   "cell_type": "code",
   "execution_count": 5,
   "id": "197d1779",
   "metadata": {
    "ExecuteTime": {
     "end_time": "2024-03-30T22:09:24.559186200Z",
     "start_time": "2024-03-30T22:09:24.195180500Z"
    },
    "collapsed": false,
    "execution": {
     "iopub.execute_input": "2024-03-31T13:26:37.256377Z",
     "iopub.status.busy": "2024-03-31T13:26:37.255984Z",
     "iopub.status.idle": "2024-03-31T13:27:32.057074Z",
     "shell.execute_reply": "2024-03-31T13:27:32.055720Z"
    },
    "jupyter": {
     "outputs_hidden": false
    },
    "papermill": {
     "duration": 54.810686,
     "end_time": "2024-03-31T13:27:32.060255",
     "exception": false,
     "start_time": "2024-03-31T13:26:37.249569",
     "status": "completed"
    },
    "tags": []
   },
   "outputs": [],
   "source": [
    "rice_dataset = torchvision.datasets.ImageFolder(dataset_path, transform=transform_workflow)"
   ]
  },
  {
   "cell_type": "code",
   "execution_count": 6,
   "id": "ec36cb0f",
   "metadata": {
    "ExecuteTime": {
     "end_time": "2024-03-30T22:09:24.581868600Z",
     "start_time": "2024-03-30T22:09:24.564191700Z"
    },
    "collapsed": false,
    "execution": {
     "iopub.execute_input": "2024-03-31T13:27:32.074131Z",
     "iopub.status.busy": "2024-03-31T13:27:32.072558Z",
     "iopub.status.idle": "2024-03-31T13:27:32.145753Z",
     "shell.execute_reply": "2024-03-31T13:27:32.144438Z"
    },
    "jupyter": {
     "outputs_hidden": false
    },
    "papermill": {
     "duration": 0.082993,
     "end_time": "2024-03-31T13:27:32.148767",
     "exception": false,
     "start_time": "2024-03-31T13:27:32.065774",
     "status": "completed"
    },
    "tags": []
   },
   "outputs": [],
   "source": [
    "image1, label1 = rice_dataset[0]\n",
    "N_col = image1.shape[0]\n",
    "N_row = 1000\n",
    "N_category = 15000"
   ]
  },
  {
   "cell_type": "code",
   "execution_count": 7,
   "id": "6d270cdb",
   "metadata": {
    "ExecuteTime": {
     "end_time": "2024-03-30T22:09:26.620654600Z",
     "start_time": "2024-03-30T22:09:24.581868600Z"
    },
    "collapsed": false,
    "execution": {
     "iopub.execute_input": "2024-03-31T13:27:32.161828Z",
     "iopub.status.busy": "2024-03-31T13:27:32.160819Z",
     "iopub.status.idle": "2024-03-31T13:27:39.432490Z",
     "shell.execute_reply": "2024-03-31T13:27:39.431105Z"
    },
    "jupyter": {
     "outputs_hidden": false
    },
    "papermill": {
     "duration": 7.281308,
     "end_time": "2024-03-31T13:27:39.435449",
     "exception": false,
     "start_time": "2024-03-31T13:27:32.154141",
     "status": "completed"
    },
    "tags": []
   },
   "outputs": [],
   "source": [
    "X1 = np.zeros((N_row, N_col))\n",
    "y1 = np.zeros(N_row, dtype=int)\n",
    "for ii in range(N_row):\n",
    "    image, label = rice_dataset[ii]\n",
    "    X1[ii, :] = image\n",
    "    y1[ii] = label"
   ]
  },
  {
   "cell_type": "code",
   "execution_count": 8,
   "id": "5aa2a4ff",
   "metadata": {
    "ExecuteTime": {
     "end_time": "2024-03-30T22:09:33.170737400Z",
     "start_time": "2024-03-30T22:09:26.620654600Z"
    },
    "collapsed": false,
    "execution": {
     "iopub.execute_input": "2024-03-31T13:27:39.448692Z",
     "iopub.status.busy": "2024-03-31T13:27:39.447544Z",
     "iopub.status.idle": "2024-03-31T13:27:46.553478Z",
     "shell.execute_reply": "2024-03-31T13:27:46.552193Z"
    },
    "jupyter": {
     "outputs_hidden": false
    },
    "papermill": {
     "duration": 7.115571,
     "end_time": "2024-03-31T13:27:46.556447",
     "exception": false,
     "start_time": "2024-03-31T13:27:39.440876",
     "status": "completed"
    },
    "tags": []
   },
   "outputs": [],
   "source": [
    "X2 = np.zeros((N_row, N_col))\n",
    "y2 = np.zeros(N_row, dtype=int)\n",
    "for ii in range(N_row):\n",
    "    image, label = rice_dataset[N_category+ii]\n",
    "    X2[ii, :] = image\n",
    "    y2[ii] = label"
   ]
  },
  {
   "cell_type": "code",
   "execution_count": 9,
   "id": "1836cc31",
   "metadata": {
    "ExecuteTime": {
     "end_time": "2024-03-30T22:09:40.017293100Z",
     "start_time": "2024-03-30T22:09:33.177563200Z"
    },
    "collapsed": false,
    "execution": {
     "iopub.execute_input": "2024-03-31T13:27:46.569418Z",
     "iopub.status.busy": "2024-03-31T13:27:46.568509Z",
     "iopub.status.idle": "2024-03-31T13:27:53.619025Z",
     "shell.execute_reply": "2024-03-31T13:27:53.617791Z"
    },
    "jupyter": {
     "outputs_hidden": false
    },
    "papermill": {
     "duration": 7.059855,
     "end_time": "2024-03-31T13:27:53.621881",
     "exception": false,
     "start_time": "2024-03-31T13:27:46.562026",
     "status": "completed"
    },
    "tags": []
   },
   "outputs": [],
   "source": [
    "X3 = np.zeros((N_row, N_col))\n",
    "y3 = np.zeros(N_row, dtype=int)\n",
    "for ii in range(N_row):\n",
    "    image, label = rice_dataset[2*N_category+ii]\n",
    "    X3[ii, :] = image\n",
    "    y3[ii] = label"
   ]
  },
  {
   "cell_type": "code",
   "execution_count": 10,
   "id": "11b04112",
   "metadata": {
    "ExecuteTime": {
     "end_time": "2024-03-30T22:09:47.173859300Z",
     "start_time": "2024-03-30T22:09:40.023202Z"
    },
    "collapsed": false,
    "execution": {
     "iopub.execute_input": "2024-03-31T13:27:53.636643Z",
     "iopub.status.busy": "2024-03-31T13:27:53.635176Z",
     "iopub.status.idle": "2024-03-31T13:28:00.812335Z",
     "shell.execute_reply": "2024-03-31T13:28:00.811353Z"
    },
    "jupyter": {
     "outputs_hidden": false
    },
    "papermill": {
     "duration": 7.188194,
     "end_time": "2024-03-31T13:28:00.815446",
     "exception": false,
     "start_time": "2024-03-31T13:27:53.627252",
     "status": "completed"
    },
    "tags": []
   },
   "outputs": [],
   "source": [
    "X4 = np.zeros((N_row, N_col))\n",
    "y4 = np.zeros(N_row, dtype=int)\n",
    "for ii in range(N_row):\n",
    "    image, label = rice_dataset[3*N_category+ii]\n",
    "    X4[ii, :] = image\n",
    "    y4[ii] = label"
   ]
  },
  {
   "cell_type": "code",
   "execution_count": 11,
   "id": "5dbda8f1",
   "metadata": {
    "ExecuteTime": {
     "end_time": "2024-03-30T22:09:57.368507300Z",
     "start_time": "2024-03-30T22:09:50.295597800Z"
    },
    "collapsed": false,
    "execution": {
     "iopub.execute_input": "2024-03-31T13:28:00.828396Z",
     "iopub.status.busy": "2024-03-31T13:28:00.827592Z",
     "iopub.status.idle": "2024-03-31T13:28:08.321493Z",
     "shell.execute_reply": "2024-03-31T13:28:08.320183Z"
    },
    "jupyter": {
     "outputs_hidden": false
    },
    "papermill": {
     "duration": 7.503522,
     "end_time": "2024-03-31T13:28:08.324381",
     "exception": false,
     "start_time": "2024-03-31T13:28:00.820859",
     "status": "completed"
    },
    "tags": []
   },
   "outputs": [],
   "source": [
    "X5 = np.zeros((N_row, N_col))\n",
    "y5 = np.zeros(N_row, dtype=int)\n",
    "for ii in range(N_row):\n",
    "    image, label = rice_dataset[4*N_category+ii]\n",
    "    X5[ii, :] = image\n",
    "    y5[ii] = label"
   ]
  },
  {
   "cell_type": "code",
   "execution_count": 12,
   "id": "f799b158",
   "metadata": {
    "ExecuteTime": {
     "end_time": "2024-03-30T22:12:44.768408Z",
     "start_time": "2024-03-30T22:12:42.599254900Z"
    },
    "collapsed": false,
    "execution": {
     "iopub.execute_input": "2024-03-31T13:28:08.337923Z",
     "iopub.status.busy": "2024-03-31T13:28:08.336806Z",
     "iopub.status.idle": "2024-03-31T13:28:14.453821Z",
     "shell.execute_reply": "2024-03-31T13:28:14.452717Z"
    },
    "jupyter": {
     "outputs_hidden": false
    },
    "papermill": {
     "duration": 6.126596,
     "end_time": "2024-03-31T13:28:14.456508",
     "exception": false,
     "start_time": "2024-03-31T13:28:08.329912",
     "status": "completed"
    },
    "tags": []
   },
   "outputs": [],
   "source": [
    "X = np.concatenate((X1, X2, X3, X4, X5), axis=0)\n",
    "y = np.concatenate((y1, y2, y3, y4, y5))"
   ]
  },
  {
   "cell_type": "markdown",
   "id": "cd4754db",
   "metadata": {
    "papermill": {
     "duration": 0.005205,
     "end_time": "2024-03-31T13:28:14.467382",
     "exception": false,
     "start_time": "2024-03-31T13:28:14.462177",
     "status": "completed"
    },
    "tags": []
   },
   "source": [
    "Split the dataset, define the part for training and for testing"
   ]
  },
  {
   "cell_type": "code",
   "execution_count": 13,
   "id": "8c65d95b",
   "metadata": {
    "ExecuteTime": {
     "end_time": "2024-03-30T22:15:55.149401600Z",
     "start_time": "2024-03-30T22:15:51.154744Z"
    },
    "collapsed": false,
    "execution": {
     "iopub.execute_input": "2024-03-31T13:28:14.479847Z",
     "iopub.status.busy": "2024-03-31T13:28:14.479376Z",
     "iopub.status.idle": "2024-03-31T13:28:19.240821Z",
     "shell.execute_reply": "2024-03-31T13:28:19.239744Z"
    },
    "jupyter": {
     "outputs_hidden": false
    },
    "papermill": {
     "duration": 4.770896,
     "end_time": "2024-03-31T13:28:19.243701",
     "exception": false,
     "start_time": "2024-03-31T13:28:14.472805",
     "status": "completed"
    },
    "tags": []
   },
   "outputs": [],
   "source": [
    "X_train, X_test, y_train, y_test = train_test_split(X, y, test_size=0.2, random_state=42)"
   ]
  },
  {
   "cell_type": "markdown",
   "id": "488a74f1",
   "metadata": {
    "papermill": {
     "duration": 0.005142,
     "end_time": "2024-03-31T13:28:19.254601",
     "exception": false,
     "start_time": "2024-03-31T13:28:19.249459",
     "status": "completed"
    },
    "tags": []
   },
   "source": [
    "# MODEL TRAINING"
   ]
  },
  {
   "cell_type": "code",
   "execution_count": 14,
   "id": "71983d6e",
   "metadata": {
    "ExecuteTime": {
     "end_time": "2024-03-30T22:19:33.399802600Z",
     "start_time": "2024-03-30T22:16:46.186264Z"
    },
    "collapsed": false,
    "execution": {
     "iopub.execute_input": "2024-03-31T13:28:19.268678Z",
     "iopub.status.busy": "2024-03-31T13:28:19.267842Z",
     "iopub.status.idle": "2024-03-31T13:32:38.159580Z",
     "shell.execute_reply": "2024-03-31T13:32:38.158405Z"
    },
    "jupyter": {
     "outputs_hidden": false
    },
    "papermill": {
     "duration": 258.91321,
     "end_time": "2024-03-31T13:32:38.173231",
     "exception": false,
     "start_time": "2024-03-31T13:28:19.260021",
     "status": "completed"
    },
    "tags": []
   },
   "outputs": [
    {
     "name": "stdout",
     "output_type": "stream",
     "text": [
      "Accuracy: 0.989\n"
     ]
    }
   ],
   "source": [
    "\n",
    "# Initialize the SVM classifier\n",
    "svm_clf = SVC(kernel='linear')\n",
    "\n",
    "# Train the classifier\n",
    "svm_clf.fit(X_train, y_train)\n",
    "\n",
    "# Make predictions on the testing set\n",
    "y_pred = svm_clf.predict(X_test)\n",
    "\n",
    "# Calculate accuracy\n",
    "accuracy = accuracy_score(y_test, y_pred)\n",
    "print(\"Accuracy:\", accuracy)\n"
   ]
  },
  {
   "cell_type": "code",
   "execution_count": null,
   "id": "fdd59e07",
   "metadata": {
    "collapsed": false,
    "jupyter": {
     "outputs_hidden": false
    },
    "papermill": {
     "duration": 0.008762,
     "end_time": "2024-03-31T13:32:38.191091",
     "exception": false,
     "start_time": "2024-03-31T13:32:38.182329",
     "status": "completed"
    },
    "tags": []
   },
   "outputs": [],
   "source": []
  }
 ],
 "metadata": {
  "kaggle": {
   "accelerator": "none",
   "dataSources": [
    {
     "datasetId": 2049052,
     "sourceId": 3399185,
     "sourceType": "datasetVersion"
    }
   ],
   "isGpuEnabled": false,
   "isInternetEnabled": true,
   "language": "python",
   "sourceType": "notebook"
  },
  "kernelspec": {
   "display_name": "Python 3",
   "language": "python",
   "name": "python3"
  },
  "language_info": {
   "codemirror_mode": {
    "name": "ipython",
    "version": 3
   },
   "file_extension": ".py",
   "mimetype": "text/x-python",
   "name": "python",
   "nbconvert_exporter": "python",
   "pygments_lexer": "ipython3",
   "version": "3.10.13"
  },
  "papermill": {
   "default_parameters": {},
   "duration": 373.73434,
   "end_time": "2024-03-31T13:32:40.047231",
   "environment_variables": {},
   "exception": null,
   "input_path": "__notebook__.ipynb",
   "output_path": "__notebook__.ipynb",
   "parameters": {},
   "start_time": "2024-03-31T13:26:26.312891",
   "version": "2.5.0"
  }
 },
 "nbformat": 4,
 "nbformat_minor": 5
}
